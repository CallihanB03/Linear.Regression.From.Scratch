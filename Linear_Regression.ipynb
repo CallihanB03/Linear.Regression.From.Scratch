{
  "nbformat": 4,
  "nbformat_minor": 0,
  "metadata": {
    "colab": {
      "provenance": []
    },
    "kernelspec": {
      "name": "python3",
      "display_name": "Python 3"
    },
    "language_info": {
      "name": "python"
    }
  },
  "cells": [
    {
      "cell_type": "markdown",
      "source": [
        "# Imports"
      ],
      "metadata": {
        "id": "6qnGi89cxueq"
      }
    },
    {
      "cell_type": "code",
      "source": [
        "import matplotlib.pyplot as plt       # Used For Data Visualization\n",
        "import pandas as pd                   # Used For Tabular Data\n",
        "import numpy as np                    # Used For Vector Operations\n",
        "import statistics as st               # Used For Statistical Analysis\n",
        "import math                           # Used For Mathematical Manipulation"
      ],
      "metadata": {
        "id": "fDsqVPiVxxLR"
      },
      "execution_count": null,
      "outputs": []
    },
    {
      "cell_type": "markdown",
      "source": [
        "# Retreive and Clean Data"
      ],
      "metadata": {
        "id": "IVRRJK6KaXLh"
      }
    },
    {
      "cell_type": "code",
      "execution_count": null,
      "metadata": {
        "id": "ygcsCsa7Z9U2",
        "colab": {
          "base_uri": "https://localhost:8080/",
          "height": 979
        },
        "outputId": "ed57ca80-df13-4988-a862-4276736a2395"
      },
      "outputs": [
        {
          "output_type": "execute_result",
          "data": {
            "text/plain": [
              "    YearsExperience    Salary\n",
              "23              8.2  113812.0\n",
              "25              9.0  105582.0\n",
              "16              5.1   66029.0\n",
              "26              9.5  116969.0\n",
              "29             10.5  121872.0\n",
              "19              6.0   93940.0\n",
              "21              7.1   98273.0\n",
              "0               1.1   39343.0\n",
              "9               3.7   57189.0\n",
              "7               3.2   54445.0\n",
              "24              8.7  109431.0\n",
              "17              5.3   83088.0\n",
              "14              4.5   61111.0\n",
              "1               1.3   46205.0\n",
              "20              6.8   91738.0\n",
              "6               3.0   60150.0\n",
              "10              3.9   63218.0\n",
              "27              9.6  112635.0\n",
              "5               2.9   56642.0\n",
              "28             10.3  122391.0\n",
              "2               1.5   37731.0\n",
              "18              5.9   81363.0\n",
              "22              7.9  101302.0\n",
              "15              4.9   67938.0\n",
              "8               3.2   64445.0\n",
              "13              4.1   57081.0\n",
              "12              4.0   56957.0\n",
              "3               2.0   43525.0\n",
              "4               2.2   39891.0\n",
              "11              4.0   55794.0"
            ],
            "text/html": [
              "\n",
              "  <div id=\"df-8316fd85-90e3-4e2b-aa8c-c57805d58391\" class=\"colab-df-container\">\n",
              "    <div>\n",
              "<style scoped>\n",
              "    .dataframe tbody tr th:only-of-type {\n",
              "        vertical-align: middle;\n",
              "    }\n",
              "\n",
              "    .dataframe tbody tr th {\n",
              "        vertical-align: top;\n",
              "    }\n",
              "\n",
              "    .dataframe thead th {\n",
              "        text-align: right;\n",
              "    }\n",
              "</style>\n",
              "<table border=\"1\" class=\"dataframe\">\n",
              "  <thead>\n",
              "    <tr style=\"text-align: right;\">\n",
              "      <th></th>\n",
              "      <th>YearsExperience</th>\n",
              "      <th>Salary</th>\n",
              "    </tr>\n",
              "  </thead>\n",
              "  <tbody>\n",
              "    <tr>\n",
              "      <th>23</th>\n",
              "      <td>8.2</td>\n",
              "      <td>113812.0</td>\n",
              "    </tr>\n",
              "    <tr>\n",
              "      <th>25</th>\n",
              "      <td>9.0</td>\n",
              "      <td>105582.0</td>\n",
              "    </tr>\n",
              "    <tr>\n",
              "      <th>16</th>\n",
              "      <td>5.1</td>\n",
              "      <td>66029.0</td>\n",
              "    </tr>\n",
              "    <tr>\n",
              "      <th>26</th>\n",
              "      <td>9.5</td>\n",
              "      <td>116969.0</td>\n",
              "    </tr>\n",
              "    <tr>\n",
              "      <th>29</th>\n",
              "      <td>10.5</td>\n",
              "      <td>121872.0</td>\n",
              "    </tr>\n",
              "    <tr>\n",
              "      <th>19</th>\n",
              "      <td>6.0</td>\n",
              "      <td>93940.0</td>\n",
              "    </tr>\n",
              "    <tr>\n",
              "      <th>21</th>\n",
              "      <td>7.1</td>\n",
              "      <td>98273.0</td>\n",
              "    </tr>\n",
              "    <tr>\n",
              "      <th>0</th>\n",
              "      <td>1.1</td>\n",
              "      <td>39343.0</td>\n",
              "    </tr>\n",
              "    <tr>\n",
              "      <th>9</th>\n",
              "      <td>3.7</td>\n",
              "      <td>57189.0</td>\n",
              "    </tr>\n",
              "    <tr>\n",
              "      <th>7</th>\n",
              "      <td>3.2</td>\n",
              "      <td>54445.0</td>\n",
              "    </tr>\n",
              "    <tr>\n",
              "      <th>24</th>\n",
              "      <td>8.7</td>\n",
              "      <td>109431.0</td>\n",
              "    </tr>\n",
              "    <tr>\n",
              "      <th>17</th>\n",
              "      <td>5.3</td>\n",
              "      <td>83088.0</td>\n",
              "    </tr>\n",
              "    <tr>\n",
              "      <th>14</th>\n",
              "      <td>4.5</td>\n",
              "      <td>61111.0</td>\n",
              "    </tr>\n",
              "    <tr>\n",
              "      <th>1</th>\n",
              "      <td>1.3</td>\n",
              "      <td>46205.0</td>\n",
              "    </tr>\n",
              "    <tr>\n",
              "      <th>20</th>\n",
              "      <td>6.8</td>\n",
              "      <td>91738.0</td>\n",
              "    </tr>\n",
              "    <tr>\n",
              "      <th>6</th>\n",
              "      <td>3.0</td>\n",
              "      <td>60150.0</td>\n",
              "    </tr>\n",
              "    <tr>\n",
              "      <th>10</th>\n",
              "      <td>3.9</td>\n",
              "      <td>63218.0</td>\n",
              "    </tr>\n",
              "    <tr>\n",
              "      <th>27</th>\n",
              "      <td>9.6</td>\n",
              "      <td>112635.0</td>\n",
              "    </tr>\n",
              "    <tr>\n",
              "      <th>5</th>\n",
              "      <td>2.9</td>\n",
              "      <td>56642.0</td>\n",
              "    </tr>\n",
              "    <tr>\n",
              "      <th>28</th>\n",
              "      <td>10.3</td>\n",
              "      <td>122391.0</td>\n",
              "    </tr>\n",
              "    <tr>\n",
              "      <th>2</th>\n",
              "      <td>1.5</td>\n",
              "      <td>37731.0</td>\n",
              "    </tr>\n",
              "    <tr>\n",
              "      <th>18</th>\n",
              "      <td>5.9</td>\n",
              "      <td>81363.0</td>\n",
              "    </tr>\n",
              "    <tr>\n",
              "      <th>22</th>\n",
              "      <td>7.9</td>\n",
              "      <td>101302.0</td>\n",
              "    </tr>\n",
              "    <tr>\n",
              "      <th>15</th>\n",
              "      <td>4.9</td>\n",
              "      <td>67938.0</td>\n",
              "    </tr>\n",
              "    <tr>\n",
              "      <th>8</th>\n",
              "      <td>3.2</td>\n",
              "      <td>64445.0</td>\n",
              "    </tr>\n",
              "    <tr>\n",
              "      <th>13</th>\n",
              "      <td>4.1</td>\n",
              "      <td>57081.0</td>\n",
              "    </tr>\n",
              "    <tr>\n",
              "      <th>12</th>\n",
              "      <td>4.0</td>\n",
              "      <td>56957.0</td>\n",
              "    </tr>\n",
              "    <tr>\n",
              "      <th>3</th>\n",
              "      <td>2.0</td>\n",
              "      <td>43525.0</td>\n",
              "    </tr>\n",
              "    <tr>\n",
              "      <th>4</th>\n",
              "      <td>2.2</td>\n",
              "      <td>39891.0</td>\n",
              "    </tr>\n",
              "    <tr>\n",
              "      <th>11</th>\n",
              "      <td>4.0</td>\n",
              "      <td>55794.0</td>\n",
              "    </tr>\n",
              "  </tbody>\n",
              "</table>\n",
              "</div>\n",
              "    <div class=\"colab-df-buttons\">\n",
              "\n",
              "  <div class=\"colab-df-container\">\n",
              "    <button class=\"colab-df-convert\" onclick=\"convertToInteractive('df-8316fd85-90e3-4e2b-aa8c-c57805d58391')\"\n",
              "            title=\"Convert this dataframe to an interactive table.\"\n",
              "            style=\"display:none;\">\n",
              "\n",
              "  <svg xmlns=\"http://www.w3.org/2000/svg\" height=\"24px\" viewBox=\"0 -960 960 960\">\n",
              "    <path d=\"M120-120v-720h720v720H120Zm60-500h600v-160H180v160Zm220 220h160v-160H400v160Zm0 220h160v-160H400v160ZM180-400h160v-160H180v160Zm440 0h160v-160H620v160ZM180-180h160v-160H180v160Zm440 0h160v-160H620v160Z\"/>\n",
              "  </svg>\n",
              "    </button>\n",
              "\n",
              "  <style>\n",
              "    .colab-df-container {\n",
              "      display:flex;\n",
              "      gap: 12px;\n",
              "    }\n",
              "\n",
              "    .colab-df-convert {\n",
              "      background-color: #E8F0FE;\n",
              "      border: none;\n",
              "      border-radius: 50%;\n",
              "      cursor: pointer;\n",
              "      display: none;\n",
              "      fill: #1967D2;\n",
              "      height: 32px;\n",
              "      padding: 0 0 0 0;\n",
              "      width: 32px;\n",
              "    }\n",
              "\n",
              "    .colab-df-convert:hover {\n",
              "      background-color: #E2EBFA;\n",
              "      box-shadow: 0px 1px 2px rgba(60, 64, 67, 0.3), 0px 1px 3px 1px rgba(60, 64, 67, 0.15);\n",
              "      fill: #174EA6;\n",
              "    }\n",
              "\n",
              "    .colab-df-buttons div {\n",
              "      margin-bottom: 4px;\n",
              "    }\n",
              "\n",
              "    [theme=dark] .colab-df-convert {\n",
              "      background-color: #3B4455;\n",
              "      fill: #D2E3FC;\n",
              "    }\n",
              "\n",
              "    [theme=dark] .colab-df-convert:hover {\n",
              "      background-color: #434B5C;\n",
              "      box-shadow: 0px 1px 3px 1px rgba(0, 0, 0, 0.15);\n",
              "      filter: drop-shadow(0px 1px 2px rgba(0, 0, 0, 0.3));\n",
              "      fill: #FFFFFF;\n",
              "    }\n",
              "  </style>\n",
              "\n",
              "    <script>\n",
              "      const buttonEl =\n",
              "        document.querySelector('#df-8316fd85-90e3-4e2b-aa8c-c57805d58391 button.colab-df-convert');\n",
              "      buttonEl.style.display =\n",
              "        google.colab.kernel.accessAllowed ? 'block' : 'none';\n",
              "\n",
              "      async function convertToInteractive(key) {\n",
              "        const element = document.querySelector('#df-8316fd85-90e3-4e2b-aa8c-c57805d58391');\n",
              "        const dataTable =\n",
              "          await google.colab.kernel.invokeFunction('convertToInteractive',\n",
              "                                                    [key], {});\n",
              "        if (!dataTable) return;\n",
              "\n",
              "        const docLinkHtml = 'Like what you see? Visit the ' +\n",
              "          '<a target=\"_blank\" href=https://colab.research.google.com/notebooks/data_table.ipynb>data table notebook</a>'\n",
              "          + ' to learn more about interactive tables.';\n",
              "        element.innerHTML = '';\n",
              "        dataTable['output_type'] = 'display_data';\n",
              "        await google.colab.output.renderOutput(dataTable, element);\n",
              "        const docLink = document.createElement('div');\n",
              "        docLink.innerHTML = docLinkHtml;\n",
              "        element.appendChild(docLink);\n",
              "      }\n",
              "    </script>\n",
              "  </div>\n",
              "\n",
              "\n",
              "<div id=\"df-6c7047bb-b23d-4651-a316-f0cf324d58f6\">\n",
              "  <button class=\"colab-df-quickchart\" onclick=\"quickchart('df-6c7047bb-b23d-4651-a316-f0cf324d58f6')\"\n",
              "            title=\"Suggest charts.\"\n",
              "            style=\"display:none;\">\n",
              "\n",
              "<svg xmlns=\"http://www.w3.org/2000/svg\" height=\"24px\"viewBox=\"0 0 24 24\"\n",
              "     width=\"24px\">\n",
              "    <g>\n",
              "        <path d=\"M19 3H5c-1.1 0-2 .9-2 2v14c0 1.1.9 2 2 2h14c1.1 0 2-.9 2-2V5c0-1.1-.9-2-2-2zM9 17H7v-7h2v7zm4 0h-2V7h2v10zm4 0h-2v-4h2v4z\"/>\n",
              "    </g>\n",
              "</svg>\n",
              "  </button>\n",
              "\n",
              "<style>\n",
              "  .colab-df-quickchart {\n",
              "      --bg-color: #E8F0FE;\n",
              "      --fill-color: #1967D2;\n",
              "      --hover-bg-color: #E2EBFA;\n",
              "      --hover-fill-color: #174EA6;\n",
              "      --disabled-fill-color: #AAA;\n",
              "      --disabled-bg-color: #DDD;\n",
              "  }\n",
              "\n",
              "  [theme=dark] .colab-df-quickchart {\n",
              "      --bg-color: #3B4455;\n",
              "      --fill-color: #D2E3FC;\n",
              "      --hover-bg-color: #434B5C;\n",
              "      --hover-fill-color: #FFFFFF;\n",
              "      --disabled-bg-color: #3B4455;\n",
              "      --disabled-fill-color: #666;\n",
              "  }\n",
              "\n",
              "  .colab-df-quickchart {\n",
              "    background-color: var(--bg-color);\n",
              "    border: none;\n",
              "    border-radius: 50%;\n",
              "    cursor: pointer;\n",
              "    display: none;\n",
              "    fill: var(--fill-color);\n",
              "    height: 32px;\n",
              "    padding: 0;\n",
              "    width: 32px;\n",
              "  }\n",
              "\n",
              "  .colab-df-quickchart:hover {\n",
              "    background-color: var(--hover-bg-color);\n",
              "    box-shadow: 0 1px 2px rgba(60, 64, 67, 0.3), 0 1px 3px 1px rgba(60, 64, 67, 0.15);\n",
              "    fill: var(--button-hover-fill-color);\n",
              "  }\n",
              "\n",
              "  .colab-df-quickchart-complete:disabled,\n",
              "  .colab-df-quickchart-complete:disabled:hover {\n",
              "    background-color: var(--disabled-bg-color);\n",
              "    fill: var(--disabled-fill-color);\n",
              "    box-shadow: none;\n",
              "  }\n",
              "\n",
              "  .colab-df-spinner {\n",
              "    border: 2px solid var(--fill-color);\n",
              "    border-color: transparent;\n",
              "    border-bottom-color: var(--fill-color);\n",
              "    animation:\n",
              "      spin 1s steps(1) infinite;\n",
              "  }\n",
              "\n",
              "  @keyframes spin {\n",
              "    0% {\n",
              "      border-color: transparent;\n",
              "      border-bottom-color: var(--fill-color);\n",
              "      border-left-color: var(--fill-color);\n",
              "    }\n",
              "    20% {\n",
              "      border-color: transparent;\n",
              "      border-left-color: var(--fill-color);\n",
              "      border-top-color: var(--fill-color);\n",
              "    }\n",
              "    30% {\n",
              "      border-color: transparent;\n",
              "      border-left-color: var(--fill-color);\n",
              "      border-top-color: var(--fill-color);\n",
              "      border-right-color: var(--fill-color);\n",
              "    }\n",
              "    40% {\n",
              "      border-color: transparent;\n",
              "      border-right-color: var(--fill-color);\n",
              "      border-top-color: var(--fill-color);\n",
              "    }\n",
              "    60% {\n",
              "      border-color: transparent;\n",
              "      border-right-color: var(--fill-color);\n",
              "    }\n",
              "    80% {\n",
              "      border-color: transparent;\n",
              "      border-right-color: var(--fill-color);\n",
              "      border-bottom-color: var(--fill-color);\n",
              "    }\n",
              "    90% {\n",
              "      border-color: transparent;\n",
              "      border-bottom-color: var(--fill-color);\n",
              "    }\n",
              "  }\n",
              "</style>\n",
              "\n",
              "  <script>\n",
              "    async function quickchart(key) {\n",
              "      const quickchartButtonEl =\n",
              "        document.querySelector('#' + key + ' button');\n",
              "      quickchartButtonEl.disabled = true;  // To prevent multiple clicks.\n",
              "      quickchartButtonEl.classList.add('colab-df-spinner');\n",
              "      try {\n",
              "        const charts = await google.colab.kernel.invokeFunction(\n",
              "            'suggestCharts', [key], {});\n",
              "      } catch (error) {\n",
              "        console.error('Error during call to suggestCharts:', error);\n",
              "      }\n",
              "      quickchartButtonEl.classList.remove('colab-df-spinner');\n",
              "      quickchartButtonEl.classList.add('colab-df-quickchart-complete');\n",
              "    }\n",
              "    (() => {\n",
              "      let quickchartButtonEl =\n",
              "        document.querySelector('#df-6c7047bb-b23d-4651-a316-f0cf324d58f6 button');\n",
              "      quickchartButtonEl.style.display =\n",
              "        google.colab.kernel.accessAllowed ? 'block' : 'none';\n",
              "    })();\n",
              "  </script>\n",
              "</div>\n",
              "    </div>\n",
              "  </div>\n"
            ]
          },
          "metadata": {},
          "execution_count": 15
        }
      ],
      "source": [
        "salary_df = pd.read_csv('/content/Salary_Data.csv.xls')\n",
        "salary_df = salary_df.sample(frac=1)\n",
        "salary_df"
      ]
    },
    {
      "cell_type": "markdown",
      "source": [
        "# Data Split"
      ],
      "metadata": {
        "id": "Io5WHmNtadUx"
      }
    },
    {
      "cell_type": "code",
      "source": [
        "train, valid, test = np.split(salary_df.sample(frac=1), (int(0.7 * len(salary_df)), int(0.85 * len(salary_df))))"
      ],
      "metadata": {
        "id": "a6QHq0IKaeuA"
      },
      "execution_count": null,
      "outputs": []
    },
    {
      "cell_type": "markdown",
      "source": [
        "# MSE Loss Function"
      ],
      "metadata": {
        "id": "3vVoT4dGahLj"
      }
    },
    {
      "cell_type": "code",
      "source": [
        "def loss(list1, list2):\n",
        "  losses = []\n",
        "  for i in range(len(list1)):\n",
        "    unit_loss = (list1[i] - list2[i]) ** 2\n",
        "    losses.append(unit_loss)\n",
        "  loss = st.mean(losses)\n",
        "  loss /= 2\n",
        "  return loss\n",
        "\n",
        "arr1 = [1, 2, 3]\n",
        "arr2 = [1, 2, 6]\n",
        "loss(arr1, arr2)"
      ],
      "metadata": {
        "colab": {
          "base_uri": "https://localhost:8080/"
        },
        "id": "4j5qEcSXxTht",
        "outputId": "5d5e87c1-8ed7-4906-a6cf-ed64dc86310b"
      },
      "execution_count": null,
      "outputs": [
        {
          "output_type": "execute_result",
          "data": {
            "text/plain": [
              "1.5"
            ]
          },
          "metadata": {},
          "execution_count": 17
        }
      ]
    },
    {
      "cell_type": "markdown",
      "source": [
        "# Initial Parameter Vector"
      ],
      "metadata": {
        "id": "8WcbQevTaqZn"
      }
    },
    {
      "cell_type": "code",
      "source": [
        "init_theta1, init_theta0 = 8000, 20000\n",
        "theta1, theta0 = 8000, 20000"
      ],
      "metadata": {
        "id": "EtWFJgh7av2R"
      },
      "execution_count": null,
      "outputs": []
    },
    {
      "cell_type": "code",
      "source": [
        "plt.scatter(salary_df['YearsExperience'], salary_df['Salary'])\n",
        "x = np.arange(0, 15, 1)\n",
        "y = theta1 * x + theta0\n",
        "plt.plot(x, y, 'black');"
      ],
      "metadata": {
        "colab": {
          "base_uri": "https://localhost:8080/",
          "height": 430
        },
        "id": "xVddTcMyayko",
        "outputId": "72107f80-e060-4b72-d4cc-0e5352de29ab"
      },
      "execution_count": null,
      "outputs": [
        {
          "output_type": "display_data",
          "data": {
            "text/plain": [
              "<Figure size 640x480 with 1 Axes>"
            ],
            "image/png": "[encoded data removed]"
          },
          "metadata": {}
        }
      ]
    },
    {
      "cell_type": "markdown",
      "source": [
        "# Hypothesis Function"
      ],
      "metadata": {
        "id": "_5oZO18Ma2ve"
      }
    },
    {
      "cell_type": "code",
      "source": [
        "def hypothesis_func(list):\n",
        "  hypothesized_data = [theta1 * x + theta0 for x in list]\n",
        "  return hypothesized_data"
      ],
      "metadata": {
        "id": "BMxVAziPa4-2"
      },
      "execution_count": null,
      "outputs": []
    },
    {
      "cell_type": "markdown",
      "source": [
        "# Initial Log Loss"
      ],
      "metadata": {
        "id": "m05nr2CVa7ec"
      }
    },
    {
      "cell_type": "code",
      "source": [
        "print(f\"Initial Log Loss = {round(np.log(loss(hypothesis_func(valid['YearsExperience'].tolist()), valid['Salary'].tolist())), 3)}\")"
      ],
      "metadata": {
        "colab": {
          "base_uri": "https://localhost:8080/"
        },
        "id": "1Fy22lYVa9jg",
        "outputId": "955cc847-9349-4994-a26e-36fe42303bff"
      },
      "execution_count": null,
      "outputs": [
        {
          "output_type": "stream",
          "name": "stdout",
          "text": [
            "Initial Log Loss = 18.188\n"
          ]
        }
      ]
    },
    {
      "cell_type": "markdown",
      "source": [
        "# Gradient Descent"
      ],
      "metadata": {
        "id": "-240zw6RbFPQ"
      }
    },
    {
      "cell_type": "code",
      "source": [
        "def gradient_1(list1, list2):\n",
        "  change1 = []\n",
        "  for i in range(len(list1)):\n",
        "    unit_change1 = (list1[i] - list2[i]) * list1[i]\n",
        "    change1.append(unit_change1)\n",
        "  gradient1 = st.mean(change1)\n",
        "  return gradient1\n",
        "\n",
        "def gradient_0(list1, list2):\n",
        "  change0 = []\n",
        "  for i in range(len(list1)):\n",
        "    unit_change0 = (list1[i] - list2[i])\n",
        "    change0.append(unit_change0)\n",
        "  gradient0 = st.mean(change0)\n",
        "  return gradient0\n"
      ],
      "metadata": {
        "id": "1ZGWesAJx-ZL"
      },
      "execution_count": null,
      "outputs": []
    },
    {
      "cell_type": "markdown",
      "source": [
        "# Normalizing Gradient Vector"
      ],
      "metadata": {
        "id": "gcKTsC4pi8sp"
      }
    },
    {
      "cell_type": "code",
      "source": [
        "def normalize_grad(lst):\n",
        "  den = 0\n",
        "  for num in lst:\n",
        "    den += (num) ** 2\n",
        "  normal_grad = [z / math.sqrt(den) for z in lst]\n",
        "  return normal_grad"
      ],
      "metadata": {
        "id": "A3nWX_mtzTeP"
      },
      "execution_count": null,
      "outputs": []
    },
    {
      "cell_type": "markdown",
      "source": [
        "# Training Epochs"
      ],
      "metadata": {
        "id": "TCLAaHr4bJeS"
      }
    },
    {
      "cell_type": "code",
      "source": [
        "epochs = 120000\n",
        "lr = 0.1\n",
        "counter = 0\n",
        "for _ in range(epochs):\n",
        "  gradient1 = gradient_1(hypothesis_func(train['YearsExperience'].tolist()), train['Salary'].tolist())\n",
        "  gradient0 = gradient_0(hypothesis_func(train['YearsExperience'].tolist()), train['Salary'].tolist())\n",
        "  gradient_vector = [gradient1, gradient0]\n",
        "  gradient1, gradient0 = normalize_grad(gradient_vector)\n",
        "  theta1 = theta1 - lr * gradient1\n",
        "  theta0 = theta0 - lr * gradient0\n",
        "  val_loss  = np.log(np.log(loss(hypothesis_func(valid['YearsExperience'].tolist()), valid['Salary'].tolist())))\n",
        "  if counter % 10000 == 0:\n",
        "    print(f'Iteration: {counter}, Val Loss: {round(val_loss, 3)} theta_1: {round(theta1, 3)}, theta_0: {round(theta0, 3)}, Gradient Vector: {gradient_vector}')\n",
        "  counter += 1\n",
        "print(f'Iteration: {\"{:.6f}\".format(counter)}, Val Loss: {\"{:.6f}\".format(round(val_loss, 3))} theta_1: {\"{:.6f}\".format(round(theta1, 3))}, theta_0: {\"{:.6f}\".format(round(theta0, 3))}')\n",
        "print(f'Parameter Vector: [{round(theta1, 3)}, {round(theta0, 3)}]')"
      ],
      "metadata": {
        "colab": {
          "base_uri": "https://localhost:8080/"
        },
        "id": "SYOI6p3pbMug",
        "outputId": "06a67e82-ce45-4bcc-a4a2-f28905218b0e"
      },
      "execution_count": null,
      "outputs": [
        {
          "output_type": "stream",
          "name": "stdout",
          "text": [
            "Iteration: 0, Val Loss: 2.901 theta_1: 8000.1, theta_0: 20000.0, Gradient Vector: [-903249104.7619047, -13532.761904761905]\n",
            "Iteration: 10000, Val Loss: 2.826 theta_1: 9000.1, theta_0: 20000.015, Gradient Vector: [-588221088.806422, -8604.17575544523]\n",
            "Iteration: 20000, Val Loss: 2.796 theta_1: 10000.1, theta_0: 20000.03, Gradient Vector: [-207519402.84676638, -3675.5888979139086]\n",
            "Iteration: 30000, Val Loss: 2.839 theta_1: 10468.354, theta_0: 20094.954, Gradient Vector: [-3542.572432200469, -1272.845519733513]\n",
            "Iteration: 40000, Val Loss: 2.838 theta_1: 10439.193, theta_0: 20279.209, Gradient Vector: [-3436.754386378541, -1232.3129016286243]\n",
            "Iteration: 50000, Val Loss: 2.837 theta_1: 10410.124, theta_0: 20462.631, Gradient Vector: [-3331.417879172734, -1192.1595903971954]\n",
            "Iteration: 60000, Val Loss: 2.836 theta_1: 10381.146, theta_0: 20645.233, Gradient Vector: [-3226.5672217980027, -1152.3800514534705]\n",
            "Iteration: 70000, Val Loss: 2.835 theta_1: 10352.256, theta_0: 20827.03, Gradient Vector: [-3122.20652211014, -1112.9688808400379]\n",
            "Iteration: 80000, Val Loss: 2.834 theta_1: 10323.453, theta_0: 21008.034, Gradient Vector: [-3018.339693198069, -1073.9208015560882]\n",
            "Iteration: 90000, Val Loss: 2.833 theta_1: 10294.736, theta_0: 21188.259, Gradient Vector: [-2914.9704587725655, -1035.230660010695]\n",
            "Iteration: 100000, Val Loss: 2.833 theta_1: 10266.103, theta_0: 21367.716, Gradient Vector: [-2812.1023579676234, -996.893422593021]\n",
            "Iteration: 110000, Val Loss: 2.832 theta_1: 10237.552, theta_0: 21546.419, Gradient Vector: [-2709.738755891233, -958.904172356579]\n",
            "Iteration: 120000.000000, Val Loss: 2.831000 theta_1: 10208.988000, theta_0: 21724.347000\n",
            "Parameter Vector: [10208.988, 21724.347]\n"
          ]
        }
      ]
    },
    {
      "cell_type": "markdown",
      "source": [
        "# Before and After Training"
      ],
      "metadata": {
        "id": "vYhaiu89bYpL"
      }
    },
    {
      "cell_type": "code",
      "source": [
        "fig, (ax1, ax2) = plt.subplots(1, 2, figsize=(10, 5))\n",
        "fig.subplots_adjust(wspace=0.4)\n",
        "\n",
        "ax1.scatter(salary_df['YearsExperience'], salary_df['Salary'])\n",
        "x = np.arange(0, 15, 1)\n",
        "y1 = init_theta1 * x + init_theta0\n",
        "ax1.plot(x, y1, 'black')\n",
        "ax1.set_xlabel('Years Employed')\n",
        "ax1.set_ylabel('Salary')\n",
        "ax1.title.set_text(f\" h(x) = {init_theta0} + {init_theta1} * x\")\n",
        "\n",
        "ax2.scatter(salary_df['YearsExperience'], salary_df['Salary'])\n",
        "x = np.arange(0, 15, 1)\n",
        "y2 = theta1 * x + theta0\n",
        "ax2.plot(x, y2, 'black');\n",
        "ax2.set_xlabel('Years Employed')\n",
        "ax2.set_ylabel('Salary')\n",
        "ax2.title.set_text(f\" h(x) = {round(theta0, 2)} + {round(theta1, 2)} * x\");"
      ],
      "metadata": {
        "colab": {
          "base_uri": "https://localhost:8080/",
          "height": 487
        },
        "id": "F9vzFDqLbb1e",
        "outputId": "49303970-07b1-4ec8-ff6c-929bec6ec54f"
      },
      "execution_count": null,
      "outputs": [
        {
          "output_type": "display_data",
          "data": {
            "text/plain": [
              "<Figure size 1000x500 with 2 Axes>"
            ],
            "image/png": "[encoded data removed]"
          },
          "metadata": {}
        }
      ]
    },
    {
      "cell_type": "code",
      "source": [
        "years = float(input('Enter years with company: '))\n",
        "print(f\"Salary is {round(theta1 * years + theta0, 2)}'\")"
      ],
      "metadata": {
        "colab": {
          "base_uri": "https://localhost:8080/"
        },
        "id": "BMYRZO_ru32n",
        "outputId": "c0beb224-fe6e-4331-b0d4-61ab6a95a2d4"
      },
      "execution_count": null,
      "outputs": [
        {
          "output_type": "stream",
          "name": "stdout",
          "text": [
            "Enter years with company: 5.7\n",
            "Salary is 79382.19'\n"
          ]
        }
      ]
    },
    {
      "cell_type": "markdown",
      "source": [
        "# Test Data"
      ],
      "metadata": {
        "id": "pF2uob7NJecW"
      }
    },
    {
      "cell_type": "code",
      "source": [
        "plt.scatter(test['YearsExperience'], test['Salary'])\n",
        "x = np.arange(0, 15, 1)\n",
        "y = theta1 * x + theta0\n",
        "plt.plot(x, y, 'black')\n",
        "plt.title(f\"h(x) = {round(theta0, 2)} + {round(theta1, 2)} * x \\n Log Loss: {round(np.log(loss(hypothesis_func(test['YearsExperience'].tolist()), test['Salary'].tolist())), 3)}\")\n",
        "plt.xlabel('Years Experience')\n",
        "plt.ylabel('Salary');"
      ],
      "metadata": {
        "colab": {
          "base_uri": "https://localhost:8080/",
          "height": 493
        },
        "id": "S4txm0y7Jgwi",
        "outputId": "49056be6-bcce-4559-ed44-cfe88425f06d"
      },
      "execution_count": null,
      "outputs": [
        {
          "output_type": "display_data",
          "data": {
            "text/plain": [
              "<Figure size 640x480 with 1 Axes>"
            ],
            "image/png": "[encoded data removed]"
          },
          "metadata": {}
        }
      ]
    }
  ]
}