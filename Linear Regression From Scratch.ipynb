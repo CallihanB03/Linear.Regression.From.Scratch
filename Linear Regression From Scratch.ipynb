{
  "nbformat": 4,
  "nbformat_minor": 0,
  "metadata": {
    "colab": {
      "provenance": []
    },
    "kernelspec": {
      "name": "python3",
      "display_name": "Python 3"
    },
    "language_info": {
      "name": "python"
    }
  },
  "cells": [
    {
      "cell_type": "markdown",
      "source": [
        "# Imports"
      ],
      "metadata": {
        "id": "6qnGi89cxueq"
      }
    },
    {
      "cell_type": "code",
      "source": [
        "import matplotlib.pyplot as plt       # Used For Data Visualization\n",
        "import pandas as pd                   # Used For Tabular Data\n",
        "import numpy as np                    # Used For Vector Operations\n",
        "import statistics as st               # Used For Statistical Analysis\n",
        "import math                           # Used For Mathematical Manipulation"
      ],
      "metadata": {
        "id": "fDsqVPiVxxLR"
      },
      "execution_count": null,
      "outputs": []
    },
    {
      "cell_type": "markdown",
      "source": [
        "# Retreive and Clean Data"
      ],
      "metadata": {
        "id": "IVRRJK6KaXLh"
      }
    },
    {
      "cell_type": "code",
      "execution_count": null,
      "metadata": {
        "id": "ygcsCsa7Z9U2",
        "colab": {
          "base_uri": "https://localhost:8080/",
          "height": 979
        },
        "outputId": "a6dea613-2542-49d1-f76b-398e601b743f"
      },
      "outputs": [
        {
          "output_type": "execute_result",
          "data": {
            "text/plain": [
              "    YearsExperience    Salary\n",
              "11              4.0   55794.0\n",
              "27              9.6  112635.0\n",
              "5               2.9   56642.0\n",
              "18              5.9   81363.0\n",
              "1               1.3   46205.0\n",
              "7               3.2   54445.0\n",
              "9               3.7   57189.0\n",
              "2               1.5   37731.0\n",
              "4               2.2   39891.0\n",
              "22              7.9  101302.0\n",
              "16              5.1   66029.0\n",
              "24              8.7  109431.0\n",
              "23              8.2  113812.0\n",
              "29             10.5  121872.0\n",
              "6               3.0   60150.0\n",
              "0               1.1   39343.0\n",
              "17              5.3   83088.0\n",
              "28             10.3  122391.0\n",
              "25              9.0  105582.0\n",
              "14              4.5   61111.0\n",
              "13              4.1   57081.0\n",
              "3               2.0   43525.0\n",
              "26              9.5  116969.0\n",
              "19              6.0   93940.0\n",
              "20              6.8   91738.0\n",
              "8               3.2   64445.0\n",
              "21              7.1   98273.0\n",
              "10              3.9   63218.0\n",
              "15              4.9   67938.0\n",
              "12              4.0   56957.0"
            ],
            "text/html": [
              "\n",
              "  <div id=\"df-6d318822-5101-473f-809e-b6b6129cc8f4\">\n",
              "    <div class=\"colab-df-container\">\n",
              "      <div>\n",
              "<style scoped>\n",
              "    .dataframe tbody tr th:only-of-type {\n",
              "        vertical-align: middle;\n",
              "    }\n",
              "\n",
              "    .dataframe tbody tr th {\n",
              "        vertical-align: top;\n",
              "    }\n",
              "\n",
              "    .dataframe thead th {\n",
              "        text-align: right;\n",
              "    }\n",
              "</style>\n",
              "<table border=\"1\" class=\"dataframe\">\n",
              "  <thead>\n",
              "    <tr style=\"text-align: right;\">\n",
              "      <th></th>\n",
              "      <th>YearsExperience</th>\n",
              "      <th>Salary</th>\n",
              "    </tr>\n",
              "  </thead>\n",
              "  <tbody>\n",
              "    <tr>\n",
              "      <th>11</th>\n",
              "      <td>4.0</td>\n",
              "      <td>55794.0</td>\n",
              "    </tr>\n",
              "    <tr>\n",
              "      <th>27</th>\n",
              "      <td>9.6</td>\n",
              "      <td>112635.0</td>\n",
              "    </tr>\n",
              "    <tr>\n",
              "      <th>5</th>\n",
              "      <td>2.9</td>\n",
              "      <td>56642.0</td>\n",
              "    </tr>\n",
              "    <tr>\n",
              "      <th>18</th>\n",
              "      <td>5.9</td>\n",
              "      <td>81363.0</td>\n",
              "    </tr>\n",
              "    <tr>\n",
              "      <th>1</th>\n",
              "      <td>1.3</td>\n",
              "      <td>46205.0</td>\n",
              "    </tr>\n",
              "    <tr>\n",
              "      <th>7</th>\n",
              "      <td>3.2</td>\n",
              "      <td>54445.0</td>\n",
              "    </tr>\n",
              "    <tr>\n",
              "      <th>9</th>\n",
              "      <td>3.7</td>\n",
              "      <td>57189.0</td>\n",
              "    </tr>\n",
              "    <tr>\n",
              "      <th>2</th>\n",
              "      <td>1.5</td>\n",
              "      <td>37731.0</td>\n",
              "    </tr>\n",
              "    <tr>\n",
              "      <th>4</th>\n",
              "      <td>2.2</td>\n",
              "      <td>39891.0</td>\n",
              "    </tr>\n",
              "    <tr>\n",
              "      <th>22</th>\n",
              "      <td>7.9</td>\n",
              "      <td>101302.0</td>\n",
              "    </tr>\n",
              "    <tr>\n",
              "      <th>16</th>\n",
              "      <td>5.1</td>\n",
              "      <td>66029.0</td>\n",
              "    </tr>\n",
              "    <tr>\n",
              "      <th>24</th>\n",
              "      <td>8.7</td>\n",
              "      <td>109431.0</td>\n",
              "    </tr>\n",
              "    <tr>\n",
              "      <th>23</th>\n",
              "      <td>8.2</td>\n",
              "      <td>113812.0</td>\n",
              "    </tr>\n",
              "    <tr>\n",
              "      <th>29</th>\n",
              "      <td>10.5</td>\n",
              "      <td>121872.0</td>\n",
              "    </tr>\n",
              "    <tr>\n",
              "      <th>6</th>\n",
              "      <td>3.0</td>\n",
              "      <td>60150.0</td>\n",
              "    </tr>\n",
              "    <tr>\n",
              "      <th>0</th>\n",
              "      <td>1.1</td>\n",
              "      <td>39343.0</td>\n",
              "    </tr>\n",
              "    <tr>\n",
              "      <th>17</th>\n",
              "      <td>5.3</td>\n",
              "      <td>83088.0</td>\n",
              "    </tr>\n",
              "    <tr>\n",
              "      <th>28</th>\n",
              "      <td>10.3</td>\n",
              "      <td>122391.0</td>\n",
              "    </tr>\n",
              "    <tr>\n",
              "      <th>25</th>\n",
              "      <td>9.0</td>\n",
              "      <td>105582.0</td>\n",
              "    </tr>\n",
              "    <tr>\n",
              "      <th>14</th>\n",
              "      <td>4.5</td>\n",
              "      <td>61111.0</td>\n",
              "    </tr>\n",
              "    <tr>\n",
              "      <th>13</th>\n",
              "      <td>4.1</td>\n",
              "      <td>57081.0</td>\n",
              "    </tr>\n",
              "    <tr>\n",
              "      <th>3</th>\n",
              "      <td>2.0</td>\n",
              "      <td>43525.0</td>\n",
              "    </tr>\n",
              "    <tr>\n",
              "      <th>26</th>\n",
              "      <td>9.5</td>\n",
              "      <td>116969.0</td>\n",
              "    </tr>\n",
              "    <tr>\n",
              "      <th>19</th>\n",
              "      <td>6.0</td>\n",
              "      <td>93940.0</td>\n",
              "    </tr>\n",
              "    <tr>\n",
              "      <th>20</th>\n",
              "      <td>6.8</td>\n",
              "      <td>91738.0</td>\n",
              "    </tr>\n",
              "    <tr>\n",
              "      <th>8</th>\n",
              "      <td>3.2</td>\n",
              "      <td>64445.0</td>\n",
              "    </tr>\n",
              "    <tr>\n",
              "      <th>21</th>\n",
              "      <td>7.1</td>\n",
              "      <td>98273.0</td>\n",
              "    </tr>\n",
              "    <tr>\n",
              "      <th>10</th>\n",
              "      <td>3.9</td>\n",
              "      <td>63218.0</td>\n",
              "    </tr>\n",
              "    <tr>\n",
              "      <th>15</th>\n",
              "      <td>4.9</td>\n",
              "      <td>67938.0</td>\n",
              "    </tr>\n",
              "    <tr>\n",
              "      <th>12</th>\n",
              "      <td>4.0</td>\n",
              "      <td>56957.0</td>\n",
              "    </tr>\n",
              "  </tbody>\n",
              "</table>\n",
              "</div>\n",
              "      <button class=\"colab-df-convert\" onclick=\"convertToInteractive('df-6d318822-5101-473f-809e-b6b6129cc8f4')\"\n",
              "              title=\"Convert this dataframe to an interactive table.\"\n",
              "              style=\"display:none;\">\n",
              "        \n",
              "  <svg xmlns=\"http://www.w3.org/2000/svg\" height=\"24px\"viewBox=\"0 0 24 24\"\n",
              "       width=\"24px\">\n",
              "    <path d=\"M0 0h24v24H0V0z\" fill=\"none\"/>\n",
              "    <path d=\"M18.56 5.44l.94 2.06.94-2.06 2.06-.94-2.06-.94-.94-2.06-.94 2.06-2.06.94zm-11 1L8.5 8.5l.94-2.06 2.06-.94-2.06-.94L8.5 2.5l-.94 2.06-2.06.94zm10 10l.94 2.06.94-2.06 2.06-.94-2.06-.94-.94-2.06-.94 2.06-2.06.94z\"/><path d=\"M17.41 7.96l-1.37-1.37c-.4-.4-.92-.59-1.43-.59-.52 0-1.04.2-1.43.59L10.3 9.45l-7.72 7.72c-.78.78-.78 2.05 0 2.83L4 21.41c.39.39.9.59 1.41.59.51 0 1.02-.2 1.41-.59l7.78-7.78 2.81-2.81c.8-.78.8-2.07 0-2.86zM5.41 20L4 18.59l7.72-7.72 1.47 1.35L5.41 20z\"/>\n",
              "  </svg>\n",
              "      </button>\n",
              "      \n",
              "  <style>\n",
              "    .colab-df-container {\n",
              "      display:flex;\n",
              "      flex-wrap:wrap;\n",
              "      gap: 12px;\n",
              "    }\n",
              "\n",
              "    .colab-df-convert {\n",
              "      background-color: #E8F0FE;\n",
              "      border: none;\n",
              "      border-radius: 50%;\n",
              "      cursor: pointer;\n",
              "      display: none;\n",
              "      fill: #1967D2;\n",
              "      height: 32px;\n",
              "      padding: 0 0 0 0;\n",
              "      width: 32px;\n",
              "    }\n",
              "\n",
              "    .colab-df-convert:hover {\n",
              "      background-color: #E2EBFA;\n",
              "      box-shadow: 0px 1px 2px rgba(60, 64, 67, 0.3), 0px 1px 3px 1px rgba(60, 64, 67, 0.15);\n",
              "      fill: #174EA6;\n",
              "    }\n",
              "\n",
              "    [theme=dark] .colab-df-convert {\n",
              "      background-color: #3B4455;\n",
              "      fill: #D2E3FC;\n",
              "    }\n",
              "\n",
              "    [theme=dark] .colab-df-convert:hover {\n",
              "      background-color: #434B5C;\n",
              "      box-shadow: 0px 1px 3px 1px rgba(0, 0, 0, 0.15);\n",
              "      filter: drop-shadow(0px 1px 2px rgba(0, 0, 0, 0.3));\n",
              "      fill: #FFFFFF;\n",
              "    }\n",
              "  </style>\n",
              "\n",
              "      <script>\n",
              "        const buttonEl =\n",
              "          document.querySelector('#df-6d318822-5101-473f-809e-b6b6129cc8f4 button.colab-df-convert');\n",
              "        buttonEl.style.display =\n",
              "          google.colab.kernel.accessAllowed ? 'block' : 'none';\n",
              "\n",
              "        async function convertToInteractive(key) {\n",
              "          const element = document.querySelector('#df-6d318822-5101-473f-809e-b6b6129cc8f4');\n",
              "          const dataTable =\n",
              "            await google.colab.kernel.invokeFunction('convertToInteractive',\n",
              "                                                     [key], {});\n",
              "          if (!dataTable) return;\n",
              "\n",
              "          const docLinkHtml = 'Like what you see? Visit the ' +\n",
              "            '<a target=\"_blank\" href=https://colab.research.google.com/notebooks/data_table.ipynb>data table notebook</a>'\n",
              "            + ' to learn more about interactive tables.';\n",
              "          element.innerHTML = '';\n",
              "          dataTable['output_type'] = 'display_data';\n",
              "          await google.colab.output.renderOutput(dataTable, element);\n",
              "          const docLink = document.createElement('div');\n",
              "          docLink.innerHTML = docLinkHtml;\n",
              "          element.appendChild(docLink);\n",
              "        }\n",
              "      </script>\n",
              "    </div>\n",
              "  </div>\n",
              "  "
            ]
          },
          "metadata": {},
          "execution_count": 2
        }
      ],
      "source": [
        "salary_df = pd.read_csv('/content/Salary_Data.csv.xls')\n",
        "salary_df = salary_df.sample(frac=1)\n",
        "salary_df"
      ]
    },
    {
      "cell_type": "markdown",
      "source": [
        "# Data Split"
      ],
      "metadata": {
        "id": "Io5WHmNtadUx"
      }
    },
    {
      "cell_type": "code",
      "source": [
        "train, valid, test = np.split(salary_df.sample(frac=1), (int(0.7 * len(salary_df)), int(0.85 * len(salary_df))))\n",
        "print(test)"
      ],
      "metadata": {
        "colab": {
          "base_uri": "https://localhost:8080/"
        },
        "id": "a6QHq0IKaeuA",
        "outputId": "6f2ffef6-68aa-47a8-d13b-8aaa77495131"
      },
      "execution_count": null,
      "outputs": [
        {
          "output_type": "stream",
          "name": "stdout",
          "text": [
            "    YearsExperience   Salary\n",
            "6               3.0  60150.0\n",
            "2               1.5  37731.0\n",
            "14              4.5  61111.0\n",
            "19              6.0  93940.0\n",
            "18              5.9  81363.0\n"
          ]
        }
      ]
    },
    {
      "cell_type": "markdown",
      "source": [
        "# MSE Loss Function"
      ],
      "metadata": {
        "id": "3vVoT4dGahLj"
      }
    },
    {
      "cell_type": "code",
      "source": [
        "def loss(list1, list2):\n",
        "  if len(list1) != len(list2):\n",
        "    return 'Length Error'\n",
        "  else:\n",
        "    i = 0\n",
        "    losses = []\n",
        "    while i < len(list1):\n",
        "      unit_loss = (list1[i] - list2[i]) ** 2\n",
        "      losses.append(unit_loss)\n",
        "      i += 1\n",
        "    loss = st.mean(losses)\n",
        "    loss = loss / 2\n",
        "    return loss\n",
        "\n",
        "arr1 = [1, 2, 3]\n",
        "arr2 = [1, 2, 6]\n",
        "loss(arr1, arr2)"
      ],
      "metadata": {
        "colab": {
          "base_uri": "https://localhost:8080/"
        },
        "id": "cO-b6Sqxaio6",
        "outputId": "5fe3f379-1923-4a2d-e996-e0c6d8a17d63"
      },
      "execution_count": null,
      "outputs": [
        {
          "output_type": "execute_result",
          "data": {
            "text/plain": [
              "1.5"
            ]
          },
          "metadata": {},
          "execution_count": 4
        }
      ]
    },
    {
      "cell_type": "markdown",
      "source": [
        "# Initial Parameter Vector"
      ],
      "metadata": {
        "id": "8WcbQevTaqZn"
      }
    },
    {
      "cell_type": "code",
      "source": [
        "init_theta1, init_theta0 = 8000, 20000\n",
        "theta1, theta0 = 8000, 20000"
      ],
      "metadata": {
        "id": "EtWFJgh7av2R"
      },
      "execution_count": null,
      "outputs": []
    },
    {
      "cell_type": "code",
      "source": [
        "plt.scatter(salary_df['YearsExperience'], salary_df['Salary'])\n",
        "x = np.arange(0, 15, 1)\n",
        "y = theta1 * x + theta0\n",
        "plt.plot(x, y, 'black');"
      ],
      "metadata": {
        "colab": {
          "base_uri": "https://localhost:8080/",
          "height": 430
        },
        "id": "xVddTcMyayko",
        "outputId": "05b0a424-6bc3-4b27-d170-d9ad9b135828"
      },
      "execution_count": null,
      "outputs": [
        {
          "output_type": "display_data",
          "data": {
            "text/plain": [
              "<Figure size 640x480 with 1 Axes>"
            ],
            "image/png": "[encoded data removed]"
          },
          "metadata": {}
        }
      ]
    },
    {
      "cell_type": "markdown",
      "source": [
        "# Hypothesis Function"
      ],
      "metadata": {
        "id": "_5oZO18Ma2ve"
      }
    },
    {
      "cell_type": "code",
      "source": [
        "def hypothesis_func(list):\n",
        "  hypothesized_data = [theta1 * x + theta0 for x in list]\n",
        "  return hypothesized_data\n",
        "\n",
        "hypothesis_func(train['YearsExperience'].tolist())"
      ],
      "metadata": {
        "colab": {
          "base_uri": "https://localhost:8080/"
        },
        "id": "BMxVAziPa4-2",
        "outputId": "7ad61096-79f4-4242-8ff7-e657ed179c5b"
      },
      "execution_count": null,
      "outputs": [
        {
          "output_type": "execute_result",
          "data": {
            "text/plain": [
              "[62400.0,\n",
              " 43200.0,\n",
              " 37600.0,\n",
              " 30400.0,\n",
              " 45600.0,\n",
              " 89600.0,\n",
              " 60800.0,\n",
              " 36000.0,\n",
              " 96800.0,\n",
              " 85600.0,\n",
              " 74400.0,\n",
              " 52000.0,\n",
              " 28800.0,\n",
              " 59200.0,\n",
              " 45600.0,\n",
              " 52800.0,\n",
              " 51200.0,\n",
              " 49600.0,\n",
              " 83200.0,\n",
              " 96000.0,\n",
              " 52000.0]"
            ]
          },
          "metadata": {},
          "execution_count": 7
        }
      ]
    },
    {
      "cell_type": "code",
      "source": [
        "print(train['Salary'].tolist())\n",
        "print(train['YearsExperience'].tolist())"
      ],
      "metadata": {
        "colab": {
          "base_uri": "https://localhost:8080/"
        },
        "id": "RVV2ctHDmizW",
        "outputId": "f1d9c4ae-305b-4a23-d7e8-85844d27def5"
      },
      "execution_count": null,
      "outputs": [
        {
          "output_type": "stream",
          "name": "stdout",
          "text": [
            "[37731.0, 46205.0, 121872.0, 101302.0, 112635.0, 61111.0, 55794.0, 39891.0, 67938.0, 57081.0, 54445.0, 56642.0, 109431.0, 122391.0, 56957.0, 60150.0, 57189.0, 116969.0, 105582.0, 83088.0, 39343.0]\n",
            "[1.5, 1.3, 10.5, 7.9, 9.6, 4.5, 4.0, 2.2, 4.9, 4.1, 3.2, 2.9, 8.7, 10.3, 4.0, 3.0, 3.7, 9.5, 9.0, 5.3, 1.1]\n"
          ]
        }
      ]
    },
    {
      "cell_type": "markdown",
      "source": [
        "# Initial Log Loss"
      ],
      "metadata": {
        "id": "m05nr2CVa7ec"
      }
    },
    {
      "cell_type": "code",
      "source": [
        "print(np.log(loss(hypothesis_func(valid['YearsExperience'].tolist()), valid['Salary'].tolist())))"
      ],
      "metadata": {
        "colab": {
          "base_uri": "https://localhost:8080/"
        },
        "id": "1Fy22lYVa9jg",
        "outputId": "406d6047-ae9a-4c3f-c02b-b5af2539bf52"
      },
      "execution_count": null,
      "outputs": [
        {
          "output_type": "stream",
          "name": "stdout",
          "text": [
            "18.95469217589283\n"
          ]
        }
      ]
    },
    {
      "cell_type": "markdown",
      "source": [
        "# Gradient Descent"
      ],
      "metadata": {
        "id": "-240zw6RbFPQ"
      }
    },
    {
      "cell_type": "code",
      "source": [
        "def gradient_1(list1, list2):\n",
        "  if len(list1) != len(list2):\n",
        "    return 'Length Error'\n",
        "  else:\n",
        "    i = 0\n",
        "    change1 = []\n",
        "    while i < len(list1):\n",
        "      unit_change1 = (list1[i] - list2[i]) * list1[i]\n",
        "      change1.append(unit_change1)\n",
        "      i += 1\n",
        "    gradient1 = st.mean(change1)\n",
        "    return gradient1\n",
        "\n",
        "def gradient_0(list1, list2):\n",
        "  if len(list1) != len(list2):\n",
        "    return 'Length Error'\n",
        "  else:\n",
        "    i = 0\n",
        "    change0 = []\n",
        "    while i < len(list1):\n",
        "      unit_change0 = (list1[i] - list2[i])\n",
        "      change0.append(unit_change0)\n",
        "      i += 1\n",
        "    gradient0 = st.mean(change0)\n",
        "    return gradient0"
      ],
      "metadata": {
        "id": "ZZCRWR6QbGqR"
      },
      "execution_count": null,
      "outputs": []
    },
    {
      "cell_type": "markdown",
      "source": [
        "# Normalizing Gradient Vector"
      ],
      "metadata": {
        "id": "gcKTsC4pi8sp"
      }
    },
    {
      "cell_type": "code",
      "source": [
        "def normalize_grad(list):\n",
        "  i = 0\n",
        "  den = 0\n",
        "  while i < len(list):\n",
        "    den += (list[i]) ** 2\n",
        "    i += 1\n",
        "  normal_grad = [z / math.sqrt(den) for z in list]\n",
        "  return normal_grad\n",
        "\n",
        "normalize_grad([3, 4])"
      ],
      "metadata": {
        "colab": {
          "base_uri": "https://localhost:8080/"
        },
        "id": "5Ep8k_m5jBBU",
        "outputId": "63b54cf5-0567-4a6c-eb8e-a0308ebfd7b6"
      },
      "execution_count": null,
      "outputs": [
        {
          "output_type": "execute_result",
          "data": {
            "text/plain": [
              "[0.6, 0.8]"
            ]
          },
          "metadata": {},
          "execution_count": 10
        }
      ]
    },
    {
      "cell_type": "markdown",
      "source": [
        "# Training Epochs"
      ],
      "metadata": {
        "id": "TCLAaHr4bJeS"
      }
    },
    {
      "cell_type": "code",
      "source": [
        "init_theta1, init_theta0 = 8000, 20000\n",
        "theta1, theta0 = 8000, 20000"
      ],
      "metadata": {
        "id": "c85fLa0AybB4"
      },
      "execution_count": null,
      "outputs": []
    },
    {
      "cell_type": "code",
      "source": [
        "epochs = 120000\n",
        "lr = 0.1\n",
        "counter = 0\n",
        "for _ in range(epochs):\n",
        "  gradient1 = gradient_1(hypothesis_func(train['YearsExperience'].tolist()), train['Salary'].tolist())\n",
        "  gradient0 = gradient_0(hypothesis_func(train['YearsExperience'].tolist()), train['Salary'].tolist())\n",
        "  gradient_vector = [gradient1, gradient0]\n",
        "  gradient1, gradient0 = normalize_grad(gradient_vector)\n",
        "  theta1 = theta1 - lr * gradient1\n",
        "  theta0 = theta0 - lr * gradient0\n",
        "  val_loss  = np.log(np.log(loss(hypothesis_func(valid['YearsExperience'].tolist()), valid['Salary'].tolist())))\n",
        "  if counter % 10000 == 0:\n",
        "    print(f'Iteration: {counter}, Val Loss: {round(val_loss, 3)} theta_1: {round(theta1, 3)}, theta_0: {round(theta0, 3)}, Gradient Vector: {gradient_vector}')\n",
        "  counter += 1\n",
        "print(f'Iteration: {counter}, Val Loss: {round(val_loss, 3)} theta_1: {round(theta1, 3)}, theta_0: {round(theta0, 3)}, Gradient Vector: {gradient_vector}')\n",
        "print(f'Parameter Vector: [{round(theta1, 3)}, {round(theta0, 3)}]')"
      ],
      "metadata": {
        "colab": {
          "base_uri": "https://localhost:8080/"
        },
        "id": "SYOI6p3pbMug",
        "outputId": "280606b5-3be1-42d0-9103-81c1696a9b3b"
      },
      "execution_count": null,
      "outputs": [
        {
          "output_type": "stream",
          "name": "stdout",
          "text": [
            "Iteration: 0, Val Loss: 2.942 theta_1: 8000.1, theta_0: 20000.0, Gradient Vector: [-824627123.8095238, -12613.190476190477]\n",
            "Iteration: 10000, Val Loss: 2.872 theta_1: 9000.1, theta_0: 20000.015, Gradient Vector: [-529221229.5064428, -7775.080311836185]\n",
            "Iteration: 20000, Val Loss: 2.782 theta_1: 10000.1, theta_0: 20000.03, Gradient Vector: [-173773125.40387517, -2936.9699002208113]\n",
            "Iteration: 30000, Val Loss: 2.826 theta_1: 10418.485, theta_0: 20104.084, Gradient Vector: [-2172.8795532612576, -808.7357015142995]\n",
            "Iteration: 40000, Val Loss: 2.824 theta_1: 10387.228, theta_0: 20288.552, Gradient Vector: [-2086.8160251442873, -775.4889839337427]\n",
            "Iteration: 50000, Val Loss: 2.822 theta_1: 10356.051, theta_0: 20472.337, Gradient Vector: [-2001.224658481422, -742.5424091420284]\n",
            "Iteration: 60000, Val Loss: 2.82 theta_1: 10324.952, theta_0: 20655.449, Gradient Vector: [-1916.1072687854369, -709.8922045824038]\n",
            "Iteration: 70000, Val Loss: 2.819 theta_1: 10293.929, theta_0: 20837.9, Gradient Vector: [-1831.465564603607, -677.534681603257]\n",
            "Iteration: 80000, Val Loss: 2.817 theta_1: 10262.98, theta_0: 21019.698, Gradient Vector: [-1747.3011481203139, -645.4662332791191]\n",
            "Iteration: 90000, Val Loss: 2.815 theta_1: 10232.106, theta_0: 21200.856, Gradient Vector: [-1663.6155266236692, -613.6833323004539]\n",
            "Iteration: 100000, Val Loss: 2.813 theta_1: 10201.303, theta_0: 21381.382, Gradient Vector: [-1580.4101108805764, -582.1825289297012]\n",
            "Iteration: 110000, Val Loss: 2.812 theta_1: 10170.572, theta_0: 21561.287, Gradient Vector: [-1497.6862175556876, -550.9604490218547]\n",
            "Iteration: 120000, Val Loss: 2.81 theta_1: 10139.816, theta_0: 21740.545, Gradient Vector: [39559.48085064361, -519.5313374781808]\n",
            "Parameter Vector: [10139.816, 21740.545]\n"
          ]
        }
      ]
    },
    {
      "cell_type": "markdown",
      "source": [
        "# Before and After Training"
      ],
      "metadata": {
        "id": "vYhaiu89bYpL"
      }
    },
    {
      "cell_type": "code",
      "source": [
        "fig, (ax1, ax2) = plt.subplots(1, 2, figsize=(10, 5))\n",
        "fig.subplots_adjust(wspace=0.4)\n",
        "\n",
        "ax1.scatter(salary_df['YearsExperience'], salary_df['Salary'])\n",
        "x = np.arange(0, 15, 1)\n",
        "y1 = init_theta1 * x + init_theta0\n",
        "ax1.plot(x, y1, 'black')\n",
        "ax1.set_xlabel('Years Employed')\n",
        "ax1.set_ylabel('Salary')\n",
        "ax1.title.set_text(f\" h(x) = {init_theta0} + {init_theta1} * x\")\n",
        "\n",
        "ax2.scatter(salary_df['YearsExperience'], salary_df['Salary'])\n",
        "x = np.arange(0, 15, 1)\n",
        "y2 = theta1 * x + theta0\n",
        "ax2.plot(x, y2, 'black');\n",
        "ax2.set_xlabel('Years Employed')\n",
        "ax2.set_ylabel('Salary')\n",
        "ax2.title.set_text(f\" h(x) = {round(theta0, 2)} + {round(theta1, 2)} * x\");"
      ],
      "metadata": {
        "colab": {
          "base_uri": "https://localhost:8080/",
          "height": 487
        },
        "id": "F9vzFDqLbb1e",
        "outputId": "0979790b-5f68-430e-b1fe-89c5a460cd9c"
      },
      "execution_count": null,
      "outputs": [
        {
          "output_type": "display_data",
          "data": {
            "text/plain": [
              "<Figure size 1000x500 with 2 Axes>"
            ],
            "image/png": "[encoded data removed]"
          },
          "metadata": {}
        }
      ]
    },
    {
      "cell_type": "code",
      "source": [
        "years = float(input('Enter years with company: '))\n",
        "print(f\"Salary is {round(theta1 * years + theta0, 2)}'\")"
      ],
      "metadata": {
        "colab": {
          "base_uri": "https://localhost:8080/"
        },
        "id": "BMYRZO_ru32n",
        "outputId": "c0beb224-fe6e-4331-b0d4-61ab6a95a2d4"
      },
      "execution_count": null,
      "outputs": [
        {
          "output_type": "stream",
          "name": "stdout",
          "text": [
            "Enter years with company: 5.7\n",
            "Salary is 79382.19'\n"
          ]
        }
      ]
    },
    {
      "cell_type": "markdown",
      "source": [
        "# Test Data"
      ],
      "metadata": {
        "id": "pF2uob7NJecW"
      }
    },
    {
      "cell_type": "code",
      "source": [
        "plt.scatter(test['YearsExperience'], test['Salary'])\n",
        "x = np.arange(0, 15, 1)\n",
        "y = theta1 * x + theta0\n",
        "plt.plot(x, y, 'black')\n",
        "plt.title(f\"h(x) = {round(theta0, 2)} + {round(theta1, 2)} * x \\n Log Loss: {round(np.log(loss(hypothesis_func(test['YearsExperience'].tolist()), test['Salary'].tolist())), 3)}\")\n",
        "plt.xlabel('Years Experience')\n",
        "plt.ylabel('Salary');"
      ],
      "metadata": {
        "colab": {
          "base_uri": "https://localhost:8080/",
          "height": 493
        },
        "id": "S4txm0y7Jgwi",
        "outputId": "8ddb4c01-0e45-441e-b0ef-52e4d5a01a1e"
      },
      "execution_count": null,
      "outputs": [
        {
          "output_type": "display_data",
          "data": {
            "text/plain": [
              "<Figure size 640x480 with 1 Axes>"
            ],
            "image/png": "[encoded data removed]"
          },
          "metadata": {}
        }
      ]
    }
  ]
}